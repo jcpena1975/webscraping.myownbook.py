{
 "cells": [
  {
   "cell_type": "code",
   "execution_count": 1,
   "metadata": {},
   "outputs": [],
   "source": [
    "import pandas as pd\n",
    "import requests"
   ]
  },
  {
   "cell_type": "code",
   "execution_count": 2,
   "metadata": {},
   "outputs": [],
   "source": [
    "#average cost of college by state #2\n",
    "st_loans = 'https://www.valuepenguin.com/average-student-loan-debt#state'"
   ]
  },
  {
   "cell_type": "code",
   "execution_count": 4,
   "metadata": {},
   "outputs": [],
   "source": [
    "# Retrieve page with the requests module\n",
    "response = requests.get(st_loans)"
   ]
  },
  {
   "cell_type": "code",
   "execution_count": 5,
   "metadata": {},
   "outputs": [
    {
     "data": {
      "text/plain": [
       "[    Year   Total Balance Year-Over-Year Change\n",
       " 0   2004    $345 billion                     -\n",
       " 1   2005    $391 billion                   13%\n",
       " 2   2006    $481 billion                   23%\n",
       " 3   2007    $547 billion                   14%\n",
       " 4   2008    $639 billion                   17%\n",
       " 5   2009    $721 billion                   13%\n",
       " 6   2010    $811 billion                   13%\n",
       " 7   2011    $873 billion                    8%\n",
       " 8   2012    $965 billion                   11%\n",
       " 9   2013  $1,079 billion                   12%\n",
       " 10  2014  $1,155 billion                    7%\n",
       " 11  2015  $1,231 billion                    7%\n",
       " 12  2016  $1,316 billion                    7%\n",
       " 13  2017  $1,386 billion                    5%,\n",
       "    Rank                 State % of Residents with Debt Average Debt\n",
       " 0     8               Alabama                      50%      $31,899\n",
       " 1    40                Alaska                      46%      $25,682\n",
       " 2    44               Arizona                      54%      $23,967\n",
       " 3    34              Arkansas                      55%      $26,799\n",
       " 4    46            California                      50%      $22,785\n",
       " 5    36              Colorado                      52%      $26,530\n",
       " 6     1           Connecticut                      57%      $38,510\n",
       " 7     5              Delaware                      62%      $34,144\n",
       " 8    15  District Of Columbia                      46%      $30,775\n",
       " 9    43               Florida                      50%      $24,041\n",
       " 10   25               Georgia                      57%      $28,653\n",
       " 11   42                Hawaii                      49%      $25,125\n",
       " 12   35                 Idaho                      61%      $26,675\n",
       " 13   24              Illinois                      61%      $29,214\n",
       " 14   22               Indiana                      57%      $29,561\n",
       " 15   20                  Iowa                      63%      $29,859\n",
       " 16   29                Kansas                      59%      $27,720\n",
       " 17   27              Kentucky                      64%      $28,447\n",
       " 18   31             Louisiana                      48%      $27,210\n",
       " 19   10                 Maine                      56%      $31,364\n",
       " 20   23              Maryland                      56%      $29,314\n",
       " 21    7         Massachusetts                      59%      $32,065\n",
       " 22   11              Michigan                      58%      $31,289\n",
       " 23    9             Minnesota                      68%      $31,734\n",
       " 24   18           Mississippi                      58%      $30,439\n",
       " 25   32              Missouri                      58%      $27,108\n",
       " 26   26               Montana                      59%      $28,466\n",
       " 27   39              Nebraska                      54%      $25,750\n",
       " 28   48                Nevada                      49%      $22,064\n",
       " 29    4         New Hampshire                      74%      $34,415\n",
       " 30    6            New Jersey                      61%      $32,247\n",
       " 31   49            New Mexico                      54%      $21,237\n",
       " 32   13              New York                      60%      $30,931\n",
       " 33   37        North Carolina                      57%      $26,526\n",
       " 34    -         North Dakota*                        -            -\n",
       " 35   17                  Ohio                      62%      $30,629\n",
       " 36   38              Oklahoma                      49%      $25,952\n",
       " 37   28                Oregon                      56%      $27,885\n",
       " 38    2          Pennsylvania                      67%      $36,854\n",
       " 39    3          Rhode Island                      64%      $36,250\n",
       " 40   14        South Carolina                      58%      $30,891\n",
       " 41   12          South Dakota                      74%      $31,275\n",
       " 42   41             Tennessee                      56%      $25,252\n",
       " 43   33                 Texas                      55%      $26,824\n",
       " 44   50                  Utah                      38%      $18,838\n",
       " 45   16               Vermont                      60%      $30,651\n",
       " 46   19              Virginia                      56%      $29,887\n",
       " 47   45            Washington                      52%      $23,936\n",
       " 48   30         West Virginia                      74%      $27,505\n",
       " 49   21             Wisconsin                      64%      $29,569\n",
       " 50   47               Wyoming                      47%      $22,524,\n",
       "     Year Under 30 (billions) 30-39 (billions) 40-49 (billions)  \\\n",
       " 0   2004              $147.8           $112.3            $48.7   \n",
       " 1   2005              $162.4           $127.6            $56.4   \n",
       " 2   2006              $196.3           $154.8            $69.8   \n",
       " 3   2007              $219.8           $174.5            $80.0   \n",
       " 4   2008              $250.9           $205.4            $94.4   \n",
       " 5   2009              $275.9           $232.2           $109.0   \n",
       " 6   2010              $301.2           $261.2           $128.5   \n",
       " 7   2011              $316.4           $282.0           $141.7   \n",
       " 8   2012              $322.7           $320.2           $167.3   \n",
       " 9   2013              $362.0           $354.1           $188.1   \n",
       " 10  2014              $370.5           $383.1           $207.6   \n",
       " 11  2015              $376.4           $408.4           $229.6   \n",
       " 12  2016              $383.2           $437.4           $255.6   \n",
       " 13  2017              $383.8           $461.0           $278.9   \n",
       " \n",
       "    50-59 (billions) 60+ (billions)  \n",
       " 0             $29.5           $6.3  \n",
       " 1             $36.4           $8.2  \n",
       " 2             $48.2          $12.2  \n",
       " 3             $56.4          $15.9  \n",
       " 4             $67.6          $20.4  \n",
       " 5             $78.5          $25.3  \n",
       " 6             $89.6          $30.8  \n",
       " 7             $97.0          $35.4  \n",
       " 8            $111.3          $43.0  \n",
       " 9            $124.9          $49.8  \n",
       " 10           $136.5          $57.7  \n",
       " 11           $149.7          $66.7  \n",
       " 12           $163.2          $76.3  \n",
       " 13           $177.2          $85.4  ,\n",
       "        Loan Type Dollars Outstanding Number of Borrowers\n",
       " 0   Direct Loans    $1,163.3 billion        34.5 million\n",
       " 1     FFEL Loans      $277.0 billion        13.1 million\n",
       " 2  Perkins Loans        $6.9 billion         2.2 million\n",
       " 3         Total*    $1,447.1 billion          43 million,\n",
       "                Loan Type Dollars Outstanding Number of Borrowers\n",
       " 0    Stafford subsidized      $276.8 billion        29.7 million\n",
       " 1  Stafford unsubsidized      $490.9 billion        28.3 million\n",
       " 2      Stafford combined      $767.7 billion       33.3 million*\n",
       " 3              Grad PLUS       $71.3 billion         1.5 million\n",
       " 4            Parent PLUS       $89.8 billion         3.6 million\n",
       " 5                Perkins        $6.9 billion         2.2 million\n",
       " 6          Consolidation      $515.6 billion        11.8 million,\n",
       "    Year Dollars Outstanding\n",
       " 0  2014       $91.8 billion\n",
       " 1  2015       $99.7 billion\n",
       " 2  2016      $102.3 billion\n",
       " 3  2017      $113.2 billion]"
      ]
     },
     "execution_count": 5,
     "metadata": {},
     "output_type": "execute_result"
    }
   ],
   "source": [
    "cost_tables = pd.read_html(response.text)\n",
    "cost_tables"
   ]
  },
  {
   "cell_type": "code",
   "execution_count": 6,
   "metadata": {},
   "outputs": [
    {
     "data": {
      "text/plain": [
       "list"
      ]
     },
     "execution_count": 6,
     "metadata": {},
     "output_type": "execute_result"
    }
   ],
   "source": [
    "type(cost_tables)"
   ]
  },
  {
   "cell_type": "code",
   "execution_count": 7,
   "metadata": {},
   "outputs": [
    {
     "data": {
      "text/html": [
       "<div>\n",
       "<style scoped>\n",
       "    .dataframe tbody tr th:only-of-type {\n",
       "        vertical-align: middle;\n",
       "    }\n",
       "\n",
       "    .dataframe tbody tr th {\n",
       "        vertical-align: top;\n",
       "    }\n",
       "\n",
       "    .dataframe thead th {\n",
       "        text-align: right;\n",
       "    }\n",
       "</style>\n",
       "<table border=\"1\" class=\"dataframe\">\n",
       "  <thead>\n",
       "    <tr style=\"text-align: right;\">\n",
       "      <th></th>\n",
       "      <th>Rank</th>\n",
       "      <th>State</th>\n",
       "      <th>% of Residents with Debt</th>\n",
       "      <th>Average Debt</th>\n",
       "    </tr>\n",
       "  </thead>\n",
       "  <tbody>\n",
       "    <tr>\n",
       "      <th>0</th>\n",
       "      <td>8</td>\n",
       "      <td>Alabama</td>\n",
       "      <td>50%</td>\n",
       "      <td>$31,899</td>\n",
       "    </tr>\n",
       "    <tr>\n",
       "      <th>1</th>\n",
       "      <td>40</td>\n",
       "      <td>Alaska</td>\n",
       "      <td>46%</td>\n",
       "      <td>$25,682</td>\n",
       "    </tr>\n",
       "    <tr>\n",
       "      <th>2</th>\n",
       "      <td>44</td>\n",
       "      <td>Arizona</td>\n",
       "      <td>54%</td>\n",
       "      <td>$23,967</td>\n",
       "    </tr>\n",
       "    <tr>\n",
       "      <th>3</th>\n",
       "      <td>34</td>\n",
       "      <td>Arkansas</td>\n",
       "      <td>55%</td>\n",
       "      <td>$26,799</td>\n",
       "    </tr>\n",
       "    <tr>\n",
       "      <th>4</th>\n",
       "      <td>46</td>\n",
       "      <td>California</td>\n",
       "      <td>50%</td>\n",
       "      <td>$22,785</td>\n",
       "    </tr>\n",
       "  </tbody>\n",
       "</table>\n",
       "</div>"
      ],
      "text/plain": [
       "  Rank       State % of Residents with Debt Average Debt\n",
       "0    8     Alabama                      50%      $31,899\n",
       "1   40      Alaska                      46%      $25,682\n",
       "2   44     Arizona                      54%      $23,967\n",
       "3   34    Arkansas                      55%      $26,799\n",
       "4   46  California                      50%      $22,785"
      ]
     },
     "execution_count": 7,
     "metadata": {},
     "output_type": "execute_result"
    }
   ],
   "source": [
    "cost_df = cost_tables[1]\n",
    "cost_df.head()"
   ]
  },
  {
   "cell_type": "code",
   "execution_count": null,
   "metadata": {},
   "outputs": [],
   "source": []
  },
  {
   "cell_type": "code",
   "execution_count": null,
   "metadata": {},
   "outputs": [],
   "source": []
  }
 ],
 "metadata": {
  "kernelspec": {
   "display_name": "Python 3",
   "language": "python",
   "name": "python3"
  },
  "language_info": {
   "codemirror_mode": {
    "name": "ipython",
    "version": 3
   },
   "file_extension": ".py",
   "mimetype": "text/x-python",
   "name": "python",
   "nbconvert_exporter": "python",
   "pygments_lexer": "ipython3",
   "version": "3.7.6"
  }
 },
 "nbformat": 4,
 "nbformat_minor": 4
}
